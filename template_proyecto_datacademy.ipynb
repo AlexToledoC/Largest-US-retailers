{
 "cells": [
  {
   "cell_type": "markdown",
   "source": "# Análisis de los 25 retailers más grandes de Estados Unidos",
   "metadata": {
    "cell_id": "1df879a0-53cd-4031-a50b-2c2fe17304a4",
    "tags": [],
    "is_collapsed": false,
    "deepnote_cell_height": 186,
    "deepnote_cell_type": "text-cell-h1"
   }
  },
  {
   "cell_type": "code",
   "metadata": {
    "tags": [],
    "cell_id": "3347a937-91c3-4305-b06c-213bb2f3bcaf",
    "deepnote_cell_height": 66,
    "deepnote_to_be_reexecuted": false,
    "source_hash": "842fca63",
    "execution_start": 1645660981118,
    "execution_millis": 7198,
    "is_code_hidden": true,
    "deepnote_cell_type": "code"
   },
   "source": "# Importar librerías aquí\nimport pandas as pd\nimport numpy as np\nimport matplotlib.pyplot as plt\nimport seaborn as sns",
   "execution_count": null,
   "outputs": []
  },
  {
   "cell_type": "code",
   "metadata": {
    "cell_id": "081fdaf2-888a-4a54-9495-467464cfc400",
    "tags": [],
    "deepnote_cell_height": 66,
    "deepnote_to_be_reexecuted": false,
    "source_hash": "5e5a4555",
    "execution_start": 1645660988337,
    "execution_millis": 34,
    "deepnote_table_state": {
     "pageSize": 10,
     "pageIndex": 0,
     "filters": [],
     "sortBy": []
    },
    "deepnote_table_loading": false,
    "is_code_hidden": true,
    "deepnote_cell_type": "code"
   },
   "source": "# Importar datos aquí\ndf = pd.read_csv('/work/largest_retailers.csv')\n# I added df.head() to test the data loaded correctly but it is like a spoiler of what´s next so I took it off.",
   "execution_count": null,
   "outputs": []
  },
  {
   "cell_type": "code",
   "metadata": {
    "cell_id": "abfd2b63-2e2f-4610-b8f8-cbcc001ab5c4",
    "tags": [],
    "deepnote_to_be_reexecuted": false,
    "source_hash": "f88152d9",
    "execution_start": 1645660988388,
    "execution_millis": 125,
    "is_code_hidden": true,
    "deepnote_cell_type": "code"
   },
   "source": "df.describe()",
   "execution_count": null,
   "outputs": [
    {
     "output_type": "execute_result",
     "execution_count": 3,
     "data": {
      "application/vnd.deepnote.dataframe.v3+json": {
       "column_count": 4,
       "row_count": 8,
       "columns": [
        {
         "name": "Sales",
         "dtype": "float64",
         "stats": {
          "unique_count": 8,
          "nan_count": 0,
          "min": "25.0",
          "max": "658119.0",
          "histogram": [
           {
            "bin_start": 25,
            "bin_end": 65834.4,
            "count": 4
           },
           {
            "bin_start": 65834.4,
            "bin_end": 131643.8,
            "count": 3
           },
           {
            "bin_start": 131643.8,
            "bin_end": 197453.19999999998,
            "count": 0
           },
           {
            "bin_start": 197453.19999999998,
            "bin_end": 263262.6,
            "count": 0
           },
           {
            "bin_start": 263262.6,
            "bin_end": 329072,
            "count": 0
           },
           {
            "bin_start": 329072,
            "bin_end": 394881.39999999997,
            "count": 0
           },
           {
            "bin_start": 394881.39999999997,
            "bin_end": 460690.79999999993,
            "count": 0
           },
           {
            "bin_start": 460690.79999999993,
            "bin_end": 526500.2,
            "count": 0
           },
           {
            "bin_start": 526500.2,
            "bin_end": 592309.6,
            "count": 0
           },
           {
            "bin_start": 592309.6,
            "bin_end": 658119,
            "count": 1
           }
          ]
         }
        },
        {
         "name": "Stores",
         "dtype": "float64",
         "stats": {
          "unique_count": 8,
          "nan_count": 0,
          "min": "0.0",
          "max": "14250.0",
          "histogram": [
           {
            "bin_start": 0,
            "bin_end": 1425,
            "count": 3
           },
           {
            "bin_start": 1425,
            "bin_end": 2850,
            "count": 1
           },
           {
            "bin_start": 2850,
            "bin_end": 4275,
            "count": 3
           },
           {
            "bin_start": 4275,
            "bin_end": 5700,
            "count": 0
           },
           {
            "bin_start": 5700,
            "bin_end": 7125,
            "count": 0
           },
           {
            "bin_start": 7125,
            "bin_end": 8550,
            "count": 0
           },
           {
            "bin_start": 8550,
            "bin_end": 9975,
            "count": 0
           },
           {
            "bin_start": 9975,
            "bin_end": 11400,
            "count": 0
           },
           {
            "bin_start": 11400,
            "bin_end": 12825,
            "count": 0
           },
           {
            "bin_start": 12825,
            "bin_end": 14250,
            "count": 1
           }
          ]
         }
        },
        {
         "name": "Sales/Avg. Store",
         "dtype": "float64",
         "stats": {
          "unique_count": 8,
          "nan_count": 0,
          "min": "1.56391854",
          "max": "187.7956204",
          "histogram": [
           {
            "bin_start": 1.56391854,
            "bin_end": 20.187088726,
            "count": 2
           },
           {
            "bin_start": 20.187088726,
            "bin_end": 38.810258912,
            "count": 3
           },
           {
            "bin_start": 38.810258912,
            "bin_end": 57.433429098000005,
            "count": 2
           },
           {
            "bin_start": 57.433429098000005,
            "bin_end": 76.056599284,
            "count": 0
           },
           {
            "bin_start": 76.056599284,
            "bin_end": 94.67976947,
            "count": 0
           },
           {
            "bin_start": 94.67976947,
            "bin_end": 113.302939656,
            "count": 0
           },
           {
            "bin_start": 113.302939656,
            "bin_end": 131.926109842,
            "count": 0
           },
           {
            "bin_start": 131.926109842,
            "bin_end": 150.549280028,
            "count": 0
           },
           {
            "bin_start": 150.549280028,
            "bin_end": 169.172450214,
            "count": 0
           },
           {
            "bin_start": 169.172450214,
            "bin_end": 187.7956204,
            "count": 1
           }
          ]
         }
        },
        {
         "name": "Store Count Growth",
         "dtype": "float64",
         "stats": {
          "unique_count": 8,
          "nan_count": 0,
          "min": "-0.059515062",
          "max": "23.0",
          "histogram": [
           {
            "bin_start": -0.059515062,
            "bin_end": 2.2464364442,
            "count": 7
           },
           {
            "bin_start": 2.2464364442,
            "bin_end": 4.5523879504,
            "count": 0
           },
           {
            "bin_start": 4.5523879504,
            "bin_end": 6.8583394566,
            "count": 0
           },
           {
            "bin_start": 6.8583394566,
            "bin_end": 9.1642909628,
            "count": 0
           },
           {
            "bin_start": 9.1642909628,
            "bin_end": 11.470242469,
            "count": 0
           },
           {
            "bin_start": 11.470242469,
            "bin_end": 13.776193975200002,
            "count": 0
           },
           {
            "bin_start": 13.776193975200002,
            "bin_end": 16.0821454814,
            "count": 0
           },
           {
            "bin_start": 16.0821454814,
            "bin_end": 18.3880969876,
            "count": 0
           },
           {
            "bin_start": 18.3880969876,
            "bin_end": 20.6940484938,
            "count": 0
           },
           {
            "bin_start": 20.6940484938,
            "bin_end": 23,
            "count": 1
           }
          ]
         }
        },
        {
         "name": "_deepnote_index_column",
         "dtype": "object"
        }
       ],
       "rows": [
        {
         "Sales": 25,
         "Stores": 25,
         "Sales/Avg. Store": 23,
         "Store Count Growth": 23,
         "_deepnote_index_column": "count"
        },
        {
         "Sales": 71063.08,
         "Stores": 3189.24,
         "Sales/Avg. Store": 36.87096578552174,
         "Store Count Growth": 0.04023000882608696,
         "_deepnote_index_column": "mean"
        },
        {
         "Sales": 125405.72764395573,
         "Stores": 3984.120116997813,
         "Sales/Avg. Store": 40.62527709398271,
         "Store Count Growth": 0.06855210531676977,
         "_deepnote_index_column": "std"
        },
        {
         "Sales": 16592,
         "Stores": 0,
         "Sales/Avg. Store": 1.56391854,
         "Store Count Growth": -0.059515062,
         "_deepnote_index_column": "min"
        },
        {
         "Sales": 24402,
         "Stores": 794,
         "Sales/Avg. Store": 11.263462319999999,
         "Store Count Growth": -0.001859956,
         "_deepnote_index_column": "25%"
        },
        {
         "Sales": 34980,
         "Stores": 1772,
         "Sales/Avg. Store": 25.99773328,
         "Store Count Growth": 0.019520357,
         "_deepnote_index_column": "50%"
        },
        {
         "Sales": 71687,
         "Stores": 3931,
         "Sales/Avg. Store": 41.358955215,
         "Store Count Growth": 0.0789339025,
         "_deepnote_index_column": "75%"
        },
        {
         "Sales": 658119,
         "Stores": 14250,
         "Sales/Avg. Store": 187.7956204,
         "Store Count Growth": 0.255662188,
         "_deepnote_index_column": "max"
        }
       ]
      },
      "text/plain": "               Sales        Stores  Sales/Avg. Store  Store Count Growth\ncount      25.000000     25.000000         23.000000           23.000000\nmean    71063.080000   3189.240000         36.870966            0.040230\nstd    125405.727644   3984.120117         40.625277            0.068552\nmin     16592.000000      0.000000          1.563919           -0.059515\n25%     24402.000000    794.000000         11.263462           -0.001860\n50%     34980.000000   1772.000000         25.997733            0.019520\n75%     71687.000000   3931.000000         41.358955            0.078934\nmax    658119.000000  14250.000000        187.795620            0.255662",
      "text/html": "<div>\n<style scoped>\n    .dataframe tbody tr th:only-of-type {\n        vertical-align: middle;\n    }\n\n    .dataframe tbody tr th {\n        vertical-align: top;\n    }\n\n    .dataframe thead th {\n        text-align: right;\n    }\n</style>\n<table border=\"1\" class=\"dataframe\">\n  <thead>\n    <tr style=\"text-align: right;\">\n      <th></th>\n      <th>Sales</th>\n      <th>Stores</th>\n      <th>Sales/Avg. Store</th>\n      <th>Store Count Growth</th>\n    </tr>\n  </thead>\n  <tbody>\n    <tr>\n      <th>count</th>\n      <td>25.000000</td>\n      <td>25.000000</td>\n      <td>23.000000</td>\n      <td>23.000000</td>\n    </tr>\n    <tr>\n      <th>mean</th>\n      <td>71063.080000</td>\n      <td>3189.240000</td>\n      <td>36.870966</td>\n      <td>0.040230</td>\n    </tr>\n    <tr>\n      <th>std</th>\n      <td>125405.727644</td>\n      <td>3984.120117</td>\n      <td>40.625277</td>\n      <td>0.068552</td>\n    </tr>\n    <tr>\n      <th>min</th>\n      <td>16592.000000</td>\n      <td>0.000000</td>\n      <td>1.563919</td>\n      <td>-0.059515</td>\n    </tr>\n    <tr>\n      <th>25%</th>\n      <td>24402.000000</td>\n      <td>794.000000</td>\n      <td>11.263462</td>\n      <td>-0.001860</td>\n    </tr>\n    <tr>\n      <th>50%</th>\n      <td>34980.000000</td>\n      <td>1772.000000</td>\n      <td>25.997733</td>\n      <td>0.019520</td>\n    </tr>\n    <tr>\n      <th>75%</th>\n      <td>71687.000000</td>\n      <td>3931.000000</td>\n      <td>41.358955</td>\n      <td>0.078934</td>\n    </tr>\n    <tr>\n      <th>max</th>\n      <td>658119.000000</td>\n      <td>14250.000000</td>\n      <td>187.795620</td>\n      <td>0.255662</td>\n    </tr>\n  </tbody>\n</table>\n</div>"
     },
     "metadata": {}
    }
   ]
  },
  {
   "cell_type": "markdown",
   "source": "At glance:",
   "metadata": {
    "cell_id": "c3be2d74-c35e-41da-91ac-716d5cbc293c",
    "tags": [],
    "is_collapsed": false,
    "deepnote_cell_type": "text-cell-p"
   }
  },
  {
   "cell_type": "markdown",
   "source": "There is a massive gap from the min and max sales. This is probably because of an outlier (an extraordinary performer)",
   "metadata": {
    "cell_id": "91b6a793-8a89-4398-b897-e402767293d5",
    "tags": [],
    "is_collapsed": false,
    "deepnote_cell_type": "text-cell-p"
   }
  },
  {
   "cell_type": "markdown",
   "source": "There´s another outlier in sales/avg.",
   "metadata": {
    "cell_id": "4f84cac2-7031-461e-8628-044f33f7df24",
    "tags": [],
    "is_collapsed": false,
    "deepnote_cell_type": "text-cell-p"
   }
  },
  {
   "cell_type": "markdown",
   "source": "There are companies that have a negative 'growth'. Meaning they are reducing the number of open stores they currently have.",
   "metadata": {
    "cell_id": "4955d667-d724-4798-85af-d6c5d1000b99",
    "tags": [],
    "is_collapsed": false,
    "deepnote_cell_type": "text-cell-p"
   }
  },
  {
   "cell_type": "markdown",
   "source": "## I. Preguntas del negocio",
   "metadata": {
    "cell_id": "cc141631-e246-41c7-a56b-ad74255d674f",
    "tags": [],
    "is_collapsed": false,
    "deepnote_cell_height": 70,
    "deepnote_cell_type": "text-cell-h2"
   }
  },
  {
   "cell_type": "markdown",
   "source": "### 1. ¿Cuál es el promedio de ventas sin contar a la compañía dominante?",
   "metadata": {
    "cell_id": "b919b92e-0df3-4f54-b093-c1db040bc4aa",
    "tags": [],
    "deepnote_cell_height": 94,
    "is_code_hidden": true,
    "deepnote_cell_type": "markdown"
   }
  },
  {
   "cell_type": "code",
   "metadata": {
    "cell_id": "d0684d2b-d018-42ad-9b48-b545aae09eec",
    "tags": [],
    "deepnote_cell_height": 66,
    "deepnote_to_be_reexecuted": false,
    "source_hash": "3ff73e2f",
    "execution_start": 1645660988523,
    "execution_millis": 136,
    "is_code_hidden": true,
    "deepnote_cell_type": "code"
   },
   "source": "df_sorted_sales = df.sort_values('Sales', ascending=False)\nprint('Average sale without the outlier: ')\nw = df_sorted_sales['Sales'][1:24].mean() #average without number one\nw = round(w, 2)\nw = str(w)\nprint('$' + w + ' million USD')",
   "execution_count": null,
   "outputs": [
    {
     "name": "stdout",
     "text": "Average sale without the outlier: \n$47907.22 million USD\n",
     "output_type": "stream"
    }
   ]
  },
  {
   "cell_type": "code",
   "metadata": {
    "cell_id": "b8118f3d-c7af-4d41-b3eb-b4a0a0e3b8df",
    "tags": [],
    "deepnote_to_be_reexecuted": false,
    "source_hash": "ed6bb5e9",
    "execution_start": 1645660988670,
    "execution_millis": 69,
    "is_code_hidden": true,
    "deepnote_cell_type": "code"
   },
   "source": "print('Average sale of all 25 retailers: ')\nr = df['Sales'].mean() #average of all 25 stores\nr = round(r, 2)\nr = str(r)\nprint('$' + r + ' million USD')",
   "execution_count": null,
   "outputs": [
    {
     "name": "stdout",
     "text": "Average sale of all 25 retailers: \n$71063.08 million USD\n",
     "output_type": "stream"
    }
   ]
  },
  {
   "cell_type": "code",
   "metadata": {
    "cell_id": "2462b2d6-dd88-4820-8af0-7f0c010a4423",
    "tags": [],
    "deepnote_to_be_reexecuted": false,
    "source_hash": "5bec80de",
    "execution_start": 1645660988738,
    "execution_millis": 1162,
    "is_code_hidden": true,
    "deepnote_cell_type": "code"
   },
   "source": "x_sales = df_sorted_sales['Company'][0:5] \ny_sales = df_sorted_sales['Sales'][0:5]\n\nplt.bar(x_sales, y_sales)\nplt.title('Top 5 retailers', fontsize=20)\nplt.xlabel('Company')\nplt.ylabel('Sales in million USD')\nplt.xticks(rotation='vertical') \n\nplt.show()",
   "execution_count": null,
   "outputs": [
    {
     "data": {
      "text/plain": "<Figure size 432x288 with 1 Axes>",
      "image/png": "[encoded data removed]"
     },
     "metadata": {
      "needs_background": "light",
      "image/png": {
       "width": 407,
       "height": 352
      }
     },
     "output_type": "display_data"
    }
   ]
  },
  {
   "cell_type": "code",
   "metadata": {
    "cell_id": "7cfb220e-bb36-4377-882f-b2b2fe9c8e93",
    "tags": [],
    "deepnote_to_be_reexecuted": false,
    "source_hash": "e23e1a58",
    "execution_start": 1645660989565,
    "execution_millis": 716,
    "is_code_hidden": true,
    "deepnote_cell_type": "code"
   },
   "source": "x_sales1 = df_sorted_sales['Company'][1:6]\ny_sales1 = df_sorted_sales['Sales'][1:6]\n\nplt.bar(x_sales1, y_sales1, color = '#add8e6')\nplt.title('Top 5 retailers excluding the outlier', fontsize=20)\nplt.xlabel('Company')\nplt.ylabel('Sales in million USD')\nplt.xticks(rotation='vertical') \n\nplt.show()",
   "execution_count": null,
   "outputs": [
    {
     "data": {
      "text/plain": "<Figure size 432x288 with 1 Axes>",
      "image/png": "[encoded data removed]"
     },
     "metadata": {
      "needs_background": "light",
      "image/png": {
       "width": 418,
       "height": 352
      }
     },
     "output_type": "display_data"
    }
   ]
  },
  {
   "cell_type": "markdown",
   "source": "We&nbsp;can&nbsp;see&nbsp;that&nbsp;the&nbsp;sales&nbsp;average&nbsp;drastically&nbsp;comes&nbsp;down&nbsp;when&nbsp;we&nbsp;don´t&nbsp;include&nbsp;Walmart.",
   "metadata": {
    "cell_id": "3e91251c-60a4-448f-9e51-b3f3e189105c",
    "tags": [],
    "is_collapsed": false,
    "deepnote_cell_type": "text-cell-p"
   }
  },
  {
   "cell_type": "markdown",
   "source": "Walmart&nbsp;sells&nbsp;around&nbsp;five&nbsp;times&nbsp;more&nbsp;than&nbsp;its&nbsp;closest&nbsp;competitor&nbsp;(we&nbsp;found&nbsp;our&nbsp;outliner)&nbsp;as&nbsp;shown&nbsp;in&nbsp;the&nbsp;previous graphs.&nbsp;",
   "metadata": {
    "cell_id": "96412757-1cc1-4ca8-81a8-2e47fdc49226",
    "tags": [],
    "is_collapsed": false,
    "deepnote_cell_type": "text-cell-p"
   }
  },
  {
   "cell_type": "markdown",
   "source": "### 2. ¿Cuánto dinero en ventas generó la mayoría de las compañías?",
   "metadata": {
    "cell_id": "1814847a-365e-4bae-9fb9-6bed9b874b37",
    "tags": [],
    "deepnote_cell_height": 94,
    "is_code_hidden": true,
    "deepnote_cell_type": "markdown"
   }
  },
  {
   "cell_type": "code",
   "metadata": {
    "cell_id": "7c7057cc-813b-4f93-8826-caed6cc738f9",
    "tags": [],
    "deepnote_cell_height": 66,
    "deepnote_to_be_reexecuted": false,
    "source_hash": "b663a2be",
    "execution_start": 1645660990339,
    "execution_millis": 894,
    "is_code_hidden": true,
    "deepnote_cell_type": "code"
   },
   "source": "df_sorted_sales = df.sort_values('Sales', ascending=0)\nbins = [10000, 20000, 30000, 40000, 50000, 60000, 70000, 80000, 90000, 100000, 110000, 120000]\nplt.hist(df_sorted_sales['Sales'][1:], bins, color = '#ffcccb') #Walmart not included\nplt.xlabel('Range of sales (million USD)')\nplt.ylabel('Number of companies')\nplt.title('Amount of companies per range of sales', fontsize=20)\n\nplt.show()",
   "execution_count": null,
   "outputs": [
    {
     "data": {
      "text/plain": "<Figure size 432x288 with 1 Axes>",
      "image/png": "[encoded data removed]"
     },
     "metadata": {
      "needs_background": "light",
      "image/png": {
       "width": 422,
       "height": 283
      }
     },
     "output_type": "display_data"
    }
   ]
  },
  {
   "cell_type": "markdown",
   "source": "We can infer from this data is that is hard to pass the 40,000 mark because more than half of the sample is within that range.",
   "metadata": {
    "cell_id": "23a97513-c41b-4175-b5c2-0a3ecf6599bb",
    "tags": [],
    "is_code_hidden": true,
    "deepnote_cell_type": "markdown"
   }
  },
  {
   "cell_type": "markdown",
   "source": "Only 3/25&nbsp;stores&nbsp;sell&nbsp;more than&nbsp;80,000&nbsp;millions&nbsp;USD.&nbsp;(Excluding walmart)",
   "metadata": {
    "cell_id": "b7c48b60-ddba-4eea-bcf5-23e090abfed7",
    "tags": [],
    "is_collapsed": false,
    "deepnote_cell_type": "text-cell-p"
   }
  },
  {
   "cell_type": "markdown",
   "source": "Only&nbsp;one&nbsp;company&nbsp;(Kroger) besides&nbsp;the outlier Walmart, surpasses&nbsp;the&nbsp;100,000&nbsp;million&nbsp;mark.",
   "metadata": {
    "cell_id": "7c3680a0-115f-4793-b454-5a3354b968d8",
    "tags": [],
    "is_collapsed": false,
    "deepnote_cell_type": "text-cell-p"
   }
  },
  {
   "cell_type": "markdown",
   "source": "Walmart is not included because it sells five times more than the second place.",
   "metadata": {
    "cell_id": "4664f1ac-729f-4591-b9b6-3526602276a0",
    "tags": [],
    "is_collapsed": false,
    "deepnote_cell_type": "text-cell-p"
   }
  },
  {
   "cell_type": "markdown",
   "source": "### 3. ¿Cuántas tiendas tiene la mayoría de las compañías?",
   "metadata": {
    "cell_id": "9801295a-a27d-48af-ae87-c653cabd8f67",
    "tags": [],
    "deepnote_cell_height": 94,
    "is_code_hidden": true,
    "deepnote_cell_type": "markdown"
   }
  },
  {
   "cell_type": "code",
   "metadata": {
    "cell_id": "ea2eead5-b115-47cf-9f2f-599b71b4b509",
    "tags": [],
    "deepnote_to_be_reexecuted": false,
    "source_hash": "ab3ac218",
    "execution_start": 1645660991258,
    "execution_millis": 32,
    "deepnote_table_state": {
     "pageSize": 25,
     "pageIndex": 0,
     "filters": [],
     "sortBy": []
    },
    "deepnote_table_loading": false,
    "is_code_hidden": true,
    "deepnote_cell_type": "code"
   },
   "source": "print('Minimum amount of stores: ')\ndf['Stores'].min()",
   "execution_count": null,
   "outputs": [
    {
     "name": "stdout",
     "text": "Minimum amount of stores: \n",
     "output_type": "stream"
    },
    {
     "output_type": "execute_result",
     "execution_count": 9,
     "data": {
      "text/plain": "0"
     },
     "metadata": {}
    }
   ]
  },
  {
   "cell_type": "code",
   "metadata": {
    "cell_id": "36e12fd2-e09c-456f-9b79-d67003099a40",
    "tags": [],
    "deepnote_to_be_reexecuted": false,
    "source_hash": "e1dace1e",
    "execution_start": 1645660991355,
    "execution_millis": 3,
    "is_code_hidden": true,
    "deepnote_cell_type": "code"
   },
   "source": "print('Maximum amount of stores: ')\ndf['Stores'].max()",
   "execution_count": null,
   "outputs": [
    {
     "name": "stdout",
     "text": "Maximum amount of stores: \n",
     "output_type": "stream"
    },
    {
     "output_type": "execute_result",
     "execution_count": 10,
     "data": {
      "text/plain": "14250"
     },
     "metadata": {}
    }
   ]
  },
  {
   "cell_type": "code",
   "metadata": {
    "cell_id": "cfcc2261-f6a1-44d8-b8fa-184eec2a77ff",
    "tags": [],
    "deepnote_cell_height": 66,
    "deepnote_to_be_reexecuted": false,
    "source_hash": "e38cc0bb",
    "execution_start": 1645660992093,
    "execution_millis": 881,
    "is_code_hidden": true,
    "deepnote_cell_type": "code"
   },
   "source": "bins=[0, 2000, 4000, 6000, 8000, 10000, 12000, 14000, 16000]\nplt.hist(df['Stores'], bins, color = 'orange') \nplt.xlabel('Number of open stores')\nplt.ylabel('Number of companies')\nplt.title('Amount of companies per range of open stores', fontsize=20)\n\nplt.show()",
   "execution_count": null,
   "outputs": [
    {
     "data": {
      "text/plain": "<Figure size 432x288 with 1 Axes>",
      "image/png": "[encoded data removed]"
     },
     "metadata": {
      "needs_background": "light",
      "image/png": {
       "width": 489,
       "height": 283
      }
     },
     "output_type": "display_data"
    }
   ]
  },
  {
   "cell_type": "markdown",
   "source": "More than half of the companies have less than 2,000 stores. ",
   "metadata": {
    "cell_id": "f40b7a22-a019-49f2-855a-2766435999c9",
    "tags": [],
    "is_code_hidden": true,
    "deepnote_cell_type": "markdown"
   }
  },
  {
   "cell_type": "markdown",
   "source": "Also&nbsp;more&nbsp;than&nbsp;half&nbsp;of&nbsp;the&nbsp;companies&nbsp;sell&nbsp;less&nbsp;than&nbsp;$40,000&nbsp;millions USD (as&nbsp;shown&nbsp;in&nbsp;point&nbsp;2).&nbsp;",
   "metadata": {
    "cell_id": "9713d31a-2414-43dd-8d95-75efb8d713c2",
    "tags": [],
    "is_collapsed": false,
    "deepnote_cell_type": "text-cell-p"
   }
  },
  {
   "cell_type": "markdown",
   "source": "We have at least one company that sells entirely online because the minimum value of open stores is 0.",
   "metadata": {
    "cell_id": "19db12ea-9cb1-47c2-b81a-ec3c05b3b0b2",
    "tags": [],
    "is_collapsed": false,
    "deepnote_cell_type": "text-cell-p"
   }
  },
  {
   "cell_type": "markdown",
   "source": "Does&nbsp;having&nbsp;more&nbsp;stores&nbsp;mean&nbsp;more&nbsp;sales?&nbsp;",
   "metadata": {
    "cell_id": "30eb7750-fee1-4ffd-a15a-d59b5e5854ef",
    "tags": [],
    "is_collapsed": false,
    "deepnote_cell_type": "text-cell-p"
   }
  },
  {
   "cell_type": "markdown",
   "source": "Stay&nbsp;tuned&nbsp;for&nbsp;the&nbsp;next&nbsp;chapter&nbsp;to&nbsp;find&nbsp;out.&nbsp;To&nbsp;be&nbsp;continued...",
   "metadata": {
    "cell_id": "bdbb99d9-55e3-43f8-85f0-5b234e5b6912",
    "tags": [],
    "is_collapsed": false,
    "deepnote_cell_type": "text-cell-p"
   }
  },
  {
   "cell_type": "markdown",
   "source": "### 4. ¿La cantidad de tiendas está relacionada con la cantidad de ventas? Es decir, ¿si una empresa tiene más tiendas tendrá más dinero de ventas?",
   "metadata": {
    "cell_id": "c9b5de28-cd12-4088-9bc0-93df660401f3",
    "tags": [],
    "deepnote_cell_height": 158,
    "is_code_hidden": true,
    "deepnote_cell_type": "markdown"
   }
  },
  {
   "cell_type": "code",
   "metadata": {
    "cell_id": "72dda234-6fca-477e-a088-99682e9766a2",
    "tags": [],
    "deepnote_cell_height": 66,
    "deepnote_to_be_reexecuted": false,
    "source_hash": "ea1dc2ca",
    "execution_start": 1645660992992,
    "execution_millis": 793,
    "is_code_hidden": true,
    "deepnote_cell_type": "code"
   },
   "source": "stores = df['Stores']\nsales = df['Sales']\n\nplt.scatter(stores, sales, color = 'orange')\nplt.xlabel('Amount of stores')\nplt.ylabel('Sales in millions USD')\nplt.title('Correlation between sales and amount of stores?', fontsize=20)\n\nplt.show()",
   "execution_count": null,
   "outputs": [
    {
     "data": {
      "text/plain": "<Figure size 432x288 with 1 Axes>",
      "image/png": "[encoded data removed]"
     },
     "metadata": {
      "needs_background": "light",
      "image/png": {
       "width": 507,
       "height": 283
      }
     },
     "output_type": "display_data"
    }
   ]
  },
  {
   "cell_type": "markdown",
   "source": "There is no correlation between amount of stores and total sales. ",
   "metadata": {
    "cell_id": "23cc083e-2d20-411f-988c-f5751d9ec8e5",
    "tags": [],
    "is_code_hidden": true,
    "deepnote_cell_type": "markdown"
   }
  },
  {
   "cell_type": "markdown",
   "source": "It&nbsp;is&nbsp;not&nbsp;recommended&nbsp;to&nbsp;open&nbsp;up&nbsp;more&nbsp;stores&nbsp;because&nbsp;most likely costs&nbsp;will&nbsp;go&nbsp;up&nbsp;but&nbsp;sales&nbsp;won´t.",
   "metadata": {
    "cell_id": "14759250-5504-4b3c-8763-ea3caa7e3d0f",
    "tags": [],
    "is_collapsed": false,
    "deepnote_cell_type": "text-cell-p"
   }
  },
  {
   "cell_type": "markdown",
   "source": "Again, we can see that more than half of our data has less than 2,000 stores and only 2/25 surpass the 100,000 million mark",
   "metadata": {
    "cell_id": "b11e46fa-4830-4f58-bccb-930320c49114",
    "tags": [],
    "is_collapsed": false,
    "deepnote_cell_type": "text-cell-p"
   }
  },
  {
   "cell_type": "markdown",
   "source": "### 5. ¿Cuál es el rango que existe entre las ventas?",
   "metadata": {
    "cell_id": "d296130b-b739-4424-8c5d-8dc8b6fc8ee5",
    "tags": [],
    "deepnote_cell_height": 94,
    "is_code_hidden": true,
    "deepnote_cell_type": "markdown"
   }
  },
  {
   "cell_type": "code",
   "metadata": {
    "cell_id": "277da6f7-0300-4156-91e5-9765eb1f3752",
    "tags": [],
    "deepnote_cell_height": 66,
    "deepnote_to_be_reexecuted": false,
    "source_hash": "a0feac99",
    "execution_start": 1645660993855,
    "execution_millis": 87213733,
    "is_code_hidden": true,
    "deepnote_cell_type": "code"
   },
   "source": "s = df['Sales'].min()\nprint('Minimum sale: ')\ns = round(s, 2)\ns = str(s)\nprint('$' + s + ' million USD')\n",
   "execution_count": null,
   "outputs": [
    {
     "name": "stdout",
     "text": "Minimum sale: \n$16592 million USD\n",
     "output_type": "stream"
    }
   ]
  },
  {
   "cell_type": "code",
   "metadata": {
    "cell_id": "7075abba-89f3-49ee-a77c-dc07b6fd9aaa",
    "tags": [],
    "deepnote_to_be_reexecuted": false,
    "source_hash": "d06e890b",
    "execution_start": 1645660993856,
    "execution_millis": 2,
    "is_code_hidden": true,
    "deepnote_cell_type": "code"
   },
   "source": "t = df['Sales'].max()\nprint('Maximum sale: ')\nt = round(t, 2)\nt = str(t)\nprint('$' + t + ' million USD')",
   "execution_count": null,
   "outputs": [
    {
     "name": "stdout",
     "text": "Maximum sale: \n$658119 million USD\n",
     "output_type": "stream"
    }
   ]
  },
  {
   "cell_type": "code",
   "metadata": {
    "cell_id": "b95ff2f4-9fd6-4a32-a9d6-b92a57abf4bb",
    "tags": [],
    "deepnote_to_be_reexecuted": false,
    "source_hash": "75cbd2b0",
    "execution_start": 1645660993898,
    "execution_millis": 1337,
    "is_code_hidden": true,
    "deepnote_cell_type": "code"
   },
   "source": "df_sorted_sales = df.sort_values('Sales', ascending=1)\nminimum = df_sorted_sales['Sales']#[::-1] #we can put ascending=0 and make it start in reverse\nmaximum = df_sorted_sales['Company']#[::-1]\n\nplt.bar(maximum, minimum)\nplt.title('Range of sales', fontsize=20)\nplt.xlabel('Company')\nplt.ylabel('Sales in million USD')\nplt.xticks(rotation='vertical')\nplt.show()",
   "execution_count": null,
   "outputs": [
    {
     "data": {
      "text/plain": "<Figure size 432x288 with 1 Axes>",
      "image/png": "[encoded data removed]"
     },
     "metadata": {
      "needs_background": "light",
      "image/png": {
       "width": 407,
       "height": 361
      }
     },
     "output_type": "display_data"
    }
   ]
  },
  {
   "cell_type": "markdown",
   "source": "There is an enormous breach between the lowest and highest seller. For smaller competitors, gaining market share will be difficult, specially because of two main factors: more stores does not mean more sales and Walmart's dominance.",
   "metadata": {
    "cell_id": "f632fdb4-70e1-4ad9-b880-f0e2a3801236",
    "tags": [],
    "is_code_hidden": true,
    "deepnote_cell_type": "markdown"
   }
  },
  {
   "cell_type": "markdown",
   "source": "### 6. ¿Cuáles son las 5 empresas que más tiendas físicas tienen? ¿Cuáles de ellas están dentro de las 5 empresas que más ventas tuvieron?",
   "metadata": {
    "cell_id": "6c36ddc3-51ef-4017-a6f9-06cbb8b970e4",
    "tags": [],
    "deepnote_cell_height": 158,
    "is_code_hidden": true,
    "deepnote_cell_type": "markdown"
   }
  },
  {
   "cell_type": "code",
   "metadata": {
    "cell_id": "de08a990-4dcd-486b-825e-2e7ae0113ef1",
    "tags": [],
    "deepnote_to_be_reexecuted": false,
    "source_hash": "f72ea862",
    "execution_start": 1645660995236,
    "execution_millis": 549,
    "is_code_hidden": true,
    "deepnote_cell_type": "code"
   },
   "source": "df_sorted_stores = df.sort_values('Stores', ascending=False)\nx_stores = df_sorted_stores['Stores'][0:5]\ny_stores = df_sorted_stores['Company'][0:5]\n\nplt.bar(y_stores, x_stores, color = 'orange')\nplt.title('Top 5 companies with most stores', fontsize=20)\nplt.xlabel('Company')\nplt.ylabel('Amount of Stores')\nplt.xticks(rotation='vertical') \nplt.show()",
   "execution_count": null,
   "outputs": [
    {
     "data": {
      "text/plain": "<Figure size 432x288 with 1 Axes>",
      "image/png": "[encoded data removed]"
     },
     "metadata": {
      "needs_background": "light",
      "image/png": {
       "width": 404,
       "height": 352
      }
     },
     "output_type": "display_data"
    }
   ]
  },
  {
   "cell_type": "code",
   "metadata": {
    "cell_id": "a34bb0e8-05e1-492d-94b8-207c20c7a527",
    "tags": [],
    "deepnote_to_be_reexecuted": false,
    "source_hash": "908b6b48",
    "execution_start": 1645660995842,
    "execution_millis": 500,
    "is_code_hidden": true,
    "deepnote_cell_type": "code"
   },
   "source": "df_sorted_sales = df.sort_values('Sales', ascending=False)\nx_sales = df_sorted_sales['Company'][0:5] \ny_sales = df_sorted_sales['Sales'][0:5]\n\nplt.bar(x_sales, y_sales)\nplt.title('Top 5 in sales', fontsize=20)\nplt.xlabel('Company')\nplt.ylabel('Sales in million USD')\nplt.xticks(rotation='vertical') \nplt.show()",
   "execution_count": null,
   "outputs": [
    {
     "data": {
      "text/plain": "<Figure size 432x288 with 1 Axes>",
      "image/png": "[encoded data removed]"
     },
     "metadata": {
      "needs_background": "light",
      "image/png": {
       "width": 407,
       "height": 352
      }
     },
     "output_type": "display_data"
    }
   ]
  },
  {
   "cell_type": "markdown",
   "source": "As we saw previously, more stores != more sales. \n\n",
   "metadata": {
    "cell_id": "f0582225-4887-4fde-a077-e3f6f229e1a3",
    "tags": [],
    "is_code_hidden": true,
    "deepnote_cell_type": "markdown"
   }
  },
  {
   "cell_type": "markdown",
   "source": "Dollar Tree, Dollar General and CVS incl. Target should focus on increasing average sale per store. They have the most amount of stores but it is not refelcted in total sales.",
   "metadata": {
    "cell_id": "0f49ef68-0923-4edb-a1b5-174049f89eb0",
    "tags": [],
    "is_code_hidden": true,
    "deepnote_cell_type": "markdown"
   }
  },
  {
   "cell_type": "markdown",
   "source": "Walmart and Walgreen Boots have a good ratio between amount of stores and total sales. They both appear in the top 5 in those categories. We need to dive deeper into their actions to see if we can replicate and adecuate their success to our own project.",
   "metadata": {
    "cell_id": "36295aa8-3cb6-489f-b842-780a8908c6d3",
    "tags": [],
    "is_collapsed": false,
    "deepnote_cell_type": "text-cell-p"
   }
  },
  {
   "cell_type": "markdown",
   "source": "While Kroger, Costco and Home Depot might be the ones that benefit from opening more stores because they are in the top five of total sales but they don´t appear in the list of the companies with the most amount of open stores. We need to see their average sale per store (and more data) to see if it is actually convenient.",
   "metadata": {
    "cell_id": "b5d84757-0e5d-4f9d-9d3d-fa7ece67a6a3",
    "tags": [],
    "is_collapsed": false,
    "deepnote_cell_type": "text-cell-p"
   }
  },
  {
   "cell_type": "markdown",
   "source": "## II. Preguntas opcionales",
   "metadata": {
    "cell_id": "7d1d5db9-ad1d-4081-968b-bea1357e236a",
    "tags": [],
    "deepnote_cell_height": 70,
    "is_code_hidden": true,
    "deepnote_cell_type": "markdown"
   }
  },
  {
   "cell_type": "markdown",
   "source": "### 7. ¿Qué categoría de compañía generó más ventas?",
   "metadata": {
    "cell_id": "27e5ddcb-8674-4809-844e-8c3442430be1",
    "tags": [],
    "deepnote_cell_height": 94,
    "is_code_hidden": true,
    "deepnote_cell_type": "markdown"
   }
  },
  {
   "cell_type": "code",
   "metadata": {
    "cell_id": "764f3a72-98e1-4a1c-a398-25483b3e6731",
    "tags": [],
    "deepnote_to_be_reexecuted": false,
    "source_hash": "6d1a7aa2",
    "execution_start": 1645660996414,
    "execution_millis": 1121,
    "is_code_hidden": true,
    "deepnote_cell_type": "code"
   },
   "source": "df_category = df.groupby(['Category']).agg({'Sales' : sum})\ndf_category = df_category.reset_index()\ndf_category = df_category.sort_values('Sales', ascending=0)\nchart = sns.barplot(data = df_category, x = 'Category', y = 'Sales')\nchart.set_xticklabels(chart.get_xticklabels(), rotation = 90)\nchart",
   "execution_count": null,
   "outputs": [
    {
     "output_type": "execute_result",
     "execution_count": 19,
     "data": {
      "text/plain": "<AxesSubplot:xlabel='Category', ylabel='Sales'>"
     },
     "metadata": {}
    },
    {
     "data": {
      "text/plain": "<Figure size 432x288 with 1 Axes>",
      "image/png": "[encoded data removed]"
     },
     "metadata": {
      "needs_background": "light",
      "image/png": {
       "width": 407,
       "height": 357
      }
     },
     "output_type": "display_data"
    }
   ]
  },
  {
   "cell_type": "markdown",
   "source": "This graph is tricky because all Walmart sales are considered Supercenter, so let´s take it out:",
   "metadata": {
    "cell_id": "389a84bd-3e1c-4947-9637-77d6a4e811f6",
    "tags": [],
    "is_collapsed": false,
    "deepnote_cell_type": "text-cell-p"
   }
  },
  {
   "cell_type": "markdown",
   "source": "Without Walmart, supercenter would move to fifth place with a total sale of almost 90,000 millions USD",
   "metadata": {
    "cell_id": "f0ff149a-4f83-4b4c-9701-94c7e2418063",
    "tags": [],
    "is_collapsed": false,
    "deepnote_cell_type": "text-cell-p"
   }
  },
  {
   "cell_type": "markdown",
   "source": "Grocery is about 50% bigger than Drug Stores.",
   "metadata": {
    "cell_id": "16551822-9ff7-4c8a-a5b2-4a6183be88be",
    "tags": [],
    "is_collapsed": false,
    "deepnote_cell_type": "text-cell-p"
   }
  },
  {
   "cell_type": "markdown",
   "source": "However, this data has to be taken with a 'grain of salt' because Warehouse Club and Warehouse Clubs (notice the difference in the 'S') represent Costco and Sam's respectively and within those big categories (like Supercenters) there are smaller categories.",
   "metadata": {
    "cell_id": "5da095a4-f5b5-42e1-991f-8b437d8ad4c5",
    "tags": [],
    "is_collapsed": false,
    "deepnote_cell_type": "text-cell-p"
   }
  },
  {
   "cell_type": "markdown",
   "source": "That´s why this data is not conclusive. ",
   "metadata": {
    "cell_id": "7c2d1de7-0267-4b76-88f0-7883f2da3605",
    "tags": [],
    "is_collapsed": false,
    "deepnote_cell_type": "text-cell-p"
   }
  },
  {
   "cell_type": "markdown",
   "source": "### 8. ¿Cuál es la compañía que en relación con su cantidad de tiendas físicas genera más ventas?",
   "metadata": {
    "cell_id": "33668883-9f01-485c-bdf9-822cd13ad952",
    "tags": [],
    "deepnote_cell_height": 126,
    "is_code_hidden": true,
    "deepnote_cell_type": "markdown"
   }
  },
  {
   "cell_type": "code",
   "metadata": {
    "cell_id": "903008ff-c22d-431e-8130-a954a94b16e8",
    "tags": [],
    "deepnote_cell_height": 66,
    "deepnote_to_be_reexecuted": false,
    "source_hash": "9237064b",
    "execution_start": 1645660997236,
    "execution_millis": 484,
    "deepnote_table_state": {
     "pageSize": 25,
     "pageIndex": 0,
     "filters": [],
     "sortBy": []
    },
    "deepnote_table_loading": false,
    "is_code_hidden": true,
    "deepnote_cell_type": "code"
   },
   "source": "df_sorted_avg_store = df.sort_values('Sales/Avg. Store', ascending=False)\n\navg = df_sorted_avg_store['Sales/Avg. Store'][0:5]\nsales_ = df_sorted_avg_store['Company'][0:5]\n\nplt.bar(sales_, avg, color = '#ffb347')\nplt.title('Top 5 average sales per store', fontsize = 20)\nplt.xlabel('Company')\nplt.ylabel('Average sale per store in million USD')\nplt.xticks(rotation='vertical') \nplt.show()",
   "execution_count": null,
   "outputs": [
    {
     "data": {
      "text/plain": "<Figure size 432x288 with 1 Axes>",
      "image/png": "[encoded data removed]"
     },
     "metadata": {
      "needs_background": "light",
      "image/png": {
       "width": 389,
       "height": 332
      }
     },
     "output_type": "display_data"
    }
   ]
  },
  {
   "cell_type": "markdown",
   "source": "Costco&nbsp;has&nbsp;more&nbsp;than&nbsp;double&nbsp;average&nbsp;sales&nbsp;per&nbsp;store&nbsp;(187.80 million USD)&nbsp;than&nbsp;number&nbsp;two&nbsp;(Sam's&nbsp;club:&nbsp;87.30 million USD). They should focus on opening up more stores.&nbsp;",
   "metadata": {
    "cell_id": "491ecfea-511b-44cc-be3d-eed8bba4361d",
    "tags": [],
    "is_collapsed": false,
    "deepnote_cell_type": "text-cell-p"
   }
  },
  {
   "cell_type": "markdown",
   "source": "Walgreen Boots was in the top 5 in both 'open stores' and 'sales' but their 'average sale per store' did not make the cut. Along with Dollar Tree, Dollar General and CVS incl. Target, these 4 companies should focus on improving average sales per store because they have the most amount of open stores.",
   "metadata": {
    "cell_id": "e4f62fab-b758-47be-8b07-756511837ef5",
    "tags": [],
    "is_collapsed": false,
    "deepnote_cell_type": "text-cell-p"
   }
  },
  {
   "cell_type": "markdown",
   "source": "We can see why Walmart is the outlier. It appears in both the top 5 of amount of open stores and average sale per store.",
   "metadata": {
    "cell_id": "b09f9f87-5506-4bc3-a982-94cd925b37e2",
    "tags": [],
    "is_collapsed": false,
    "deepnote_cell_type": "text-cell-p"
   }
  },
  {
   "cell_type": "markdown",
   "source": "### 9. ¿Cuáles compañías venden de forma exclusivamente online? ¿Sus ventas destacan sobre las que también tienen tiendas físicas?",
   "metadata": {
    "cell_id": "e9a00ffe-de8a-41f0-98e7-67b905d0d14f",
    "tags": [],
    "deepnote_cell_height": 158,
    "is_code_hidden": true,
    "deepnote_cell_type": "markdown"
   }
  },
  {
   "cell_type": "code",
   "metadata": {
    "cell_id": "81152b3e-3e13-4044-81cc-e2095e8980ad",
    "tags": [],
    "deepnote_to_be_reexecuted": false,
    "source_hash": "63144cc",
    "execution_start": 1645660997724,
    "execution_millis": 64,
    "is_code_hidden": true,
    "deepnote_cell_type": "code"
   },
   "source": "only_online = df_sorted_stores[23:25]\nonly_online",
   "execution_count": null,
   "outputs": [
    {
     "output_type": "execute_result",
     "execution_count": 21,
     "data": {
      "application/vnd.deepnote.dataframe.v3+json": {
       "column_count": 6,
       "row_count": 2,
       "columns": [
        {
         "name": "Company",
         "dtype": "object",
         "stats": {
          "unique_count": 2,
          "nan_count": 0,
          "categories": [
           {
            "name": "Apple incl. Online",
            "count": 1
           },
           {
            "name": "Amazon",
            "count": 1
           }
          ]
         }
        },
        {
         "name": "Sales",
         "dtype": "int64",
         "stats": {
          "unique_count": 2,
          "nan_count": 0,
          "min": "37664",
          "max": "71687",
          "histogram": [
           {
            "bin_start": 37664,
            "bin_end": 41066.3,
            "count": 1
           },
           {
            "bin_start": 41066.3,
            "bin_end": 44468.6,
            "count": 0
           },
           {
            "bin_start": 44468.6,
            "bin_end": 47870.9,
            "count": 0
           },
           {
            "bin_start": 47870.9,
            "bin_end": 51273.2,
            "count": 0
           },
           {
            "bin_start": 51273.2,
            "bin_end": 54675.5,
            "count": 0
           },
           {
            "bin_start": 54675.5,
            "bin_end": 58077.8,
            "count": 0
           },
           {
            "bin_start": 58077.8,
            "bin_end": 61480.100000000006,
            "count": 0
           },
           {
            "bin_start": 61480.100000000006,
            "bin_end": 64882.4,
            "count": 0
           },
           {
            "bin_start": 64882.4,
            "bin_end": 68284.7,
            "count": 0
           },
           {
            "bin_start": 68284.7,
            "bin_end": 71687,
            "count": 1
           }
          ]
         }
        },
        {
         "name": "Stores",
         "dtype": "int64",
         "stats": {
          "unique_count": 1,
          "nan_count": 0,
          "min": "0",
          "max": "0",
          "histogram": [
           {
            "bin_start": -0.5,
            "bin_end": -0.4,
            "count": 0
           },
           {
            "bin_start": -0.4,
            "bin_end": -0.3,
            "count": 0
           },
           {
            "bin_start": -0.3,
            "bin_end": -0.19999999999999996,
            "count": 0
           },
           {
            "bin_start": -0.19999999999999996,
            "bin_end": -0.09999999999999998,
            "count": 0
           },
           {
            "bin_start": -0.09999999999999998,
            "bin_end": 0,
            "count": 0
           },
           {
            "bin_start": 0,
            "bin_end": 0.10000000000000009,
            "count": 2
           },
           {
            "bin_start": 0.10000000000000009,
            "bin_end": 0.20000000000000007,
            "count": 0
           },
           {
            "bin_start": 0.20000000000000007,
            "bin_end": 0.30000000000000004,
            "count": 0
           },
           {
            "bin_start": 0.30000000000000004,
            "bin_end": 0.4,
            "count": 0
           },
           {
            "bin_start": 0.4,
            "bin_end": 0.5,
            "count": 0
           }
          ]
         }
        },
        {
         "name": "Sales/Avg. Store",
         "dtype": "float64",
         "stats": {
          "unique_count": 0,
          "nan_count": 2,
          "min": null,
          "max": null,
          "histogram": [
           {
            "bin_start": 0,
            "bin_end": 0.1,
            "count": 0
           },
           {
            "bin_start": 0.1,
            "bin_end": 0.2,
            "count": 0
           },
           {
            "bin_start": 0.2,
            "bin_end": 0.30000000000000004,
            "count": 0
           },
           {
            "bin_start": 0.30000000000000004,
            "bin_end": 0.4,
            "count": 0
           },
           {
            "bin_start": 0.4,
            "bin_end": 0.5,
            "count": 0
           },
           {
            "bin_start": 0.5,
            "bin_end": 0.6000000000000001,
            "count": 0
           },
           {
            "bin_start": 0.6000000000000001,
            "bin_end": 0.7000000000000001,
            "count": 0
           },
           {
            "bin_start": 0.7000000000000001,
            "bin_end": 0.8,
            "count": 0
           },
           {
            "bin_start": 0.8,
            "bin_end": 0.9,
            "count": 0
           },
           {
            "bin_start": 0.9,
            "bin_end": 1,
            "count": 0
           }
          ]
         }
        },
        {
         "name": "Store Count Growth",
         "dtype": "float64",
         "stats": {
          "unique_count": 0,
          "nan_count": 2,
          "min": null,
          "max": null,
          "histogram": [
           {
            "bin_start": 0,
            "bin_end": 0.1,
            "count": 0
           },
           {
            "bin_start": 0.1,
            "bin_end": 0.2,
            "count": 0
           },
           {
            "bin_start": 0.2,
            "bin_end": 0.30000000000000004,
            "count": 0
           },
           {
            "bin_start": 0.30000000000000004,
            "bin_end": 0.4,
            "count": 0
           },
           {
            "bin_start": 0.4,
            "bin_end": 0.5,
            "count": 0
           },
           {
            "bin_start": 0.5,
            "bin_end": 0.6000000000000001,
            "count": 0
           },
           {
            "bin_start": 0.6000000000000001,
            "bin_end": 0.7000000000000001,
            "count": 0
           },
           {
            "bin_start": 0.7000000000000001,
            "bin_end": 0.8,
            "count": 0
           },
           {
            "bin_start": 0.8,
            "bin_end": 0.9,
            "count": 0
           },
           {
            "bin_start": 0.9,
            "bin_end": 1,
            "count": 0
           }
          ]
         }
        },
        {
         "name": "Category",
         "dtype": "object",
         "stats": {
          "unique_count": 2,
          "nan_count": 0,
          "categories": [
           {
            "name": "Electronics",
            "count": 1
           },
           {
            "name": "Electronic/Mail Order",
            "count": 1
           }
          ]
         }
        },
        {
         "name": "_deepnote_index_column",
         "dtype": "int64"
        }
       ],
       "rows": [
        {
         "Company": "Apple incl. Online",
         "Sales": 37664,
         "Stores": 0,
         "Sales/Avg. Store": "nan",
         "Store Count Growth": "nan",
         "Category": "Electronics",
         "_deepnote_index_column": 11
        },
        {
         "Company": "Amazon",
         "Sales": 71687,
         "Stores": 0,
         "Sales/Avg. Store": "nan",
         "Store Count Growth": "nan",
         "Category": "Electronic/Mail Order",
         "_deepnote_index_column": 6
        }
       ]
      },
      "text/plain": "               Company  Sales  Stores  Sales/Avg. Store  Store Count Growth  \\\n11  Apple incl. Online  37664       0               NaN                 NaN   \n6               Amazon  71687       0               NaN                 NaN   \n\n                 Category  \n11            Electronics  \n6   Electronic/Mail Order  ",
      "text/html": "<div>\n<style scoped>\n    .dataframe tbody tr th:only-of-type {\n        vertical-align: middle;\n    }\n\n    .dataframe tbody tr th {\n        vertical-align: top;\n    }\n\n    .dataframe thead th {\n        text-align: right;\n    }\n</style>\n<table border=\"1\" class=\"dataframe\">\n  <thead>\n    <tr style=\"text-align: right;\">\n      <th></th>\n      <th>Company</th>\n      <th>Sales</th>\n      <th>Stores</th>\n      <th>Sales/Avg. Store</th>\n      <th>Store Count Growth</th>\n      <th>Category</th>\n    </tr>\n  </thead>\n  <tbody>\n    <tr>\n      <th>11</th>\n      <td>Apple incl. Online</td>\n      <td>37664</td>\n      <td>0</td>\n      <td>NaN</td>\n      <td>NaN</td>\n      <td>Electronics</td>\n    </tr>\n    <tr>\n      <th>6</th>\n      <td>Amazon</td>\n      <td>71687</td>\n      <td>0</td>\n      <td>NaN</td>\n      <td>NaN</td>\n      <td>Electronic/Mail Order</td>\n    </tr>\n  </tbody>\n</table>\n</div>"
     },
     "metadata": {}
    }
   ]
  },
  {
   "cell_type": "markdown",
   "source": "Neither these two companies can be considered to have a remarkable performance. In fact, Apple incl. Online is below average.",
   "metadata": {
    "cell_id": "872f96fa-3855-4a8a-a86c-fea30931dbf1",
    "tags": [],
    "is_collapsed": false,
    "deepnote_cell_type": "text-cell-p"
   }
  },
  {
   "cell_type": "markdown",
   "source": "If anything, they probably have better margins because they don´t have the usual costs of stores, but we need to dive deeper into their finances and other data.",
   "metadata": {
    "cell_id": "bcf146b7-dc1e-48a4-bf73-53eee2532f3d",
    "tags": [],
    "is_collapsed": false,
    "deepnote_cell_type": "text-cell-p"
   }
  },
  {
   "cell_type": "markdown",
   "source": "## III. Tus propias preguntas",
   "metadata": {
    "cell_id": "58c80612-3fb2-4c71-9aab-813b121430a0",
    "tags": [],
    "deepnote_cell_height": 70,
    "is_code_hidden": true,
    "deepnote_cell_type": "markdown"
   }
  },
  {
   "cell_type": "markdown",
   "source": "### 10. Which retailer is growing faster?",
   "metadata": {
    "cell_id": "fa60966b-7d95-43f0-9a1e-201f1373f1be",
    "tags": [],
    "deepnote_cell_height": 62,
    "is_code_hidden": true,
    "deepnote_cell_type": "markdown"
   }
  },
  {
   "cell_type": "code",
   "metadata": {
    "cell_id": "52ea290f-004f-4aaa-8e1a-0d0908996b0a",
    "tags": [],
    "deepnote_cell_height": 66,
    "deepnote_to_be_reexecuted": false,
    "source_hash": "70e42660",
    "execution_start": 1645660997807,
    "execution_millis": 845,
    "deepnote_table_state": {
     "pageSize": 25,
     "pageIndex": 0,
     "filters": [],
     "sortBy": []
    },
    "deepnote_table_loading": false,
    "is_code_hidden": true,
    "deepnote_cell_type": "code"
   },
   "source": "df_sorted_growth = df.sort_values('Store Count Growth', ascending=False)\n\ngrowth = df_sorted_growth['Store Count Growth'][:23] #to exclude both retailers that sell exclusively online\ncompany = df_sorted_growth['Company'][:23]\n\nplt.bar(company, growth, color = 'green')\nplt.title('Growth pace', fontsize = 20)\nplt.xlabel('Company')\nplt.ylabel('Growth')\nplt.xticks(rotation='vertical') \n\nplt.show()",
   "execution_count": null,
   "outputs": [
    {
     "data": {
      "text/plain": "<Figure size 432x288 with 1 Axes>",
      "image/png": "[encoded data removed]"
     },
     "metadata": {
      "needs_background": "light",
      "image/png": {
       "width": 400,
       "height": 352
      }
     },
     "output_type": "display_data"
    }
   ]
  },
  {
   "cell_type": "markdown",
   "source": "CVS incl. Target and Dollar General should focus on increasing average sale per store intead of opening more stores because they already are in the top 5 of open stores without being in the top 5 of sales.",
   "metadata": {
    "cell_id": "7f7c4073-6652-42e1-90b7-68bfe4c6c640",
    "tags": [],
    "is_collapsed": false,
    "deepnote_cell_type": "text-cell-p"
   }
  },
  {
   "cell_type": "markdown",
   "source": "Meijer is on a good direction because their average sale per store is third highest and opening up more stores is the right strategy.",
   "metadata": {
    "cell_id": "4e1a3bdb-0e48-4cd4-bcd6-25f0b06b42e2",
    "tags": [],
    "is_collapsed": false,
    "deepnote_cell_type": "text-cell-p"
   }
  },
  {
   "cell_type": "markdown",
   "source": "Why are some companies closing stores? Was it forced? Voluntarily? Because of the pandemic? Are they pivoting to more online sales? Unfortunately we can´t asnwer that with this data set .",
   "metadata": {
    "cell_id": "f3513a0b-f6c2-40cb-8256-a4b7a7a91f15",
    "tags": [],
    "is_collapsed": false,
    "deepnote_cell_type": "text-cell-p"
   }
  },
  {
   "cell_type": "markdown",
   "source": "### 11. Which retailer has the least amount of stores? (Excluding those that sell exclusively online)",
   "metadata": {
    "cell_id": "d5a17c31-5e8f-4d67-9679-c5705053de69",
    "tags": [],
    "deepnote_cell_height": 62,
    "is_code_hidden": true,
    "deepnote_cell_type": "markdown"
   }
  },
  {
   "cell_type": "code",
   "metadata": {
    "cell_id": "c834566a-3af8-4ac4-938e-8d636d5fc513",
    "tags": [],
    "deepnote_to_be_reexecuted": false,
    "source_hash": "45cf89ed",
    "execution_start": 1645660998657,
    "execution_millis": 87947610,
    "is_code_hidden": true,
    "deepnote_cell_type": "code"
   },
   "source": "print('Average stores per company: ')\ndf['Stores'].mean()",
   "execution_count": null,
   "outputs": [
    {
     "name": "stdout",
     "text": "Average stores per company: \n",
     "output_type": "stream"
    },
    {
     "output_type": "execute_result",
     "execution_count": 23,
     "data": {
      "text/plain": "3189.24"
     },
     "metadata": {}
    }
   ]
  },
  {
   "cell_type": "code",
   "metadata": {
    "cell_id": "2d6baee3-2dc6-4001-a639-453dda383e2b",
    "tags": [],
    "deepnote_to_be_reexecuted": false,
    "source_hash": "7da0b757",
    "execution_start": 1645660998728,
    "execution_millis": 357,
    "is_code_hidden": true,
    "deepnote_cell_type": "code"
   },
   "source": "df_sorted_stores = df.sort_values('Stores', ascending=1)\nx_stores = df_sorted_stores['Stores'][2:7]#To exclude those that only sell online\ny_stores = df_sorted_stores['Company'][2:7]\n\nplt.bar(y_stores, x_stores, color = 'orange')\nplt.title('Top 5 less amount of stores', fontsize = 20)\nplt.xlabel('Company')\nplt.ylabel('Amount of Stores')\nplt.xticks(rotation='vertical') \nplt.show()",
   "execution_count": null,
   "outputs": [
    {
     "data": {
      "text/plain": "<Figure size 432x288 with 1 Axes>",
      "image/png": "[encoded data removed]"
     },
     "metadata": {
      "needs_background": "light",
      "image/png": {
       "width": 389,
       "height": 329
      }
     },
     "output_type": "display_data"
    }
   ]
  },
  {
   "cell_type": "markdown",
   "source": "All five companies, have less than 800 stores each. Not even close to the average.",
   "metadata": {
    "cell_id": "1af2caa9-82c6-4593-9371-465fdd077915",
    "tags": [],
    "is_collapsed": false,
    "deepnote_cell_type": "text-cell-p"
   }
  },
  {
   "cell_type": "markdown",
   "source": "Costco is remarkable, with only that amount of stores manages to be in the top 3 of sales thanks to their exceptional average sale per store.",
   "metadata": {
    "cell_id": "0ec5d304-ad3b-4e6e-a65f-af111fe2c666",
    "tags": [],
    "is_collapsed": false,
    "deepnote_cell_type": "text-cell-p"
   }
  },
  {
   "cell_type": "markdown",
   "source": "### 12. Which retailer has the worst average sale per store?",
   "metadata": {
    "cell_id": "83e0e566-969d-4872-b32d-915ac945a370",
    "tags": [],
    "deepnote_cell_height": 62,
    "is_code_hidden": true,
    "deepnote_cell_type": "markdown"
   }
  },
  {
   "cell_type": "code",
   "metadata": {
    "cell_id": "e2f99f1f-8ddb-4857-a7a0-692f8ad9bd21",
    "tags": [],
    "deepnote_to_be_reexecuted": false,
    "source_hash": "10c2af18",
    "execution_start": 1645660999100,
    "execution_millis": 5,
    "is_code_hidden": true,
    "deepnote_cell_type": "code"
   },
   "source": "print('Average sale per store of all retailers: ')\nz = df['Sales/Avg. Store'].mean()\nz = round(z, 2)\nz = str(z)\nprint('$' + z + ' million USD')",
   "execution_count": null,
   "outputs": [
    {
     "name": "stdout",
     "text": "Average sale per store of all retailers: \n$36.87 million USD\n",
     "output_type": "stream"
    }
   ]
  },
  {
   "cell_type": "code",
   "metadata": {
    "cell_id": "04a6786e-fd39-4b41-b85c-0ecae003e4db",
    "tags": [],
    "deepnote_cell_height": 66,
    "deepnote_to_be_reexecuted": false,
    "source_hash": "7c8b0a04",
    "execution_start": 1645660999183,
    "execution_millis": 874,
    "is_code_hidden": true,
    "deepnote_cell_type": "code"
   },
   "source": "df_sorted_avg_store = df.sort_values('Sales/Avg. Store', ascending=1)\n\navg = df_sorted_avg_store['Sales/Avg. Store'][:5]\nsales_ = df_sorted_avg_store['Company'][:5]\n\nplt.bar(sales_, avg, color = '#ffb347')\nplt.title('Average sales per store', fontsize=20)\nplt.xlabel('Company')\nplt.ylabel('Average sale per store in million USD')\nplt.xticks(rotation='vertical') \nplt.show()",
   "execution_count": null,
   "outputs": [
    {
     "data": {
      "text/plain": "<Figure size 432x288 with 1 Axes>",
      "image/png": "[encoded data removed]"
     },
     "metadata": {
      "needs_background": "light",
      "image/png": {
       "width": 376,
       "height": 351
      }
     },
     "output_type": "display_data"
    }
   ]
  },
  {
   "cell_type": "markdown",
   "source": "We can observe that there´s a tendency between having less stores and a high average sale. ",
   "metadata": {
    "cell_id": "c547d698-7321-46dd-948b-83e7ab73c6c4",
    "tags": [],
    "is_collapsed": false,
    "deepnote_cell_type": "text-cell-p"
   }
  },
  {
   "cell_type": "markdown",
   "source": "We can infere that it gets harder to manage more stores and profitability goes down. Expansion might not always be the best strategy specially when net profit does not go up with the increased revenue.",
   "metadata": {
    "cell_id": "842728dc-2bec-4257-8c07-b4264845fa3a",
    "tags": [],
    "is_collapsed": false,
    "deepnote_cell_type": "text-cell-p"
   }
  },
  {
   "cell_type": "markdown",
   "source": "Another thing we need to keep in mind is that buying in bulk is not the same as dollar stores and each company has their own business model: some may rely on volume to be profitable while others have a greater margin. ",
   "metadata": {
    "cell_id": "13f0e056-03e9-481f-b0d7-c55d87f8eee7",
    "tags": [],
    "is_collapsed": false,
    "deepnote_cell_type": "text-cell-p"
   }
  },
  {
   "cell_type": "markdown",
   "source": "This doesn´t mean blindly opening up more stores to have more volume, we saw it doesn´t work that way.",
   "metadata": {
    "cell_id": "c4fa3839-3102-4f8b-892d-74f3090de430",
    "tags": [],
    "is_collapsed": false,
    "deepnote_cell_type": "text-cell-p"
   }
  },
  {
   "cell_type": "markdown",
   "source": "According to our needs we can adequate our strategy while getting inspiration from other retailers that are getting the desired results, that´s why the main focus of this analysis was top 5 performers.",
   "metadata": {
    "cell_id": "9677170e-e324-42ab-bf6a-b85ce9e747fc",
    "tags": [],
    "is_collapsed": false,
    "deepnote_cell_type": "text-cell-p"
   }
  },
  {
   "cell_type": "markdown",
   "source": "<a style='text-decoration:none;line-height:16px;display:flex;color:#5B5B62;padding:10px;justify-content:end;' href='https://deepnote.com?utm_source=created-in-deepnote-cell&projectId=debd956d-27c4-4345-a2bc-4c5c2c4a5d61' target=\"_blank\">\n<img alt='Created in deepnote.com' style='display:inline;max-height:16px;margin:0px;margin-right:7.5px;' src='data:image/svg+xml;base64,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' > </img>\nCreated in <span style='font-weight:600;margin-left:4px;'>Deepnote</span></a>",
   "metadata": {
    "tags": [],
    "created_in_deepnote_cell": true,
    "deepnote_cell_type": "markdown"
   }
  }
 ],
 "nbformat": 4,
 "nbformat_minor": 2,
 "metadata": {
  "orig_nbformat": 2,
  "deepnote": {
   "is_reactive": false
  },
  "deepnote_notebook_id": "85b76ea9-ace4-4c85-8b21-59120be91703",
  "deepnote_execution_queue": []
 }
}